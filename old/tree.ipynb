{
 "cells": [
  {
   "cell_type": "code",
   "execution_count": 2,
   "metadata": {},
   "outputs": [],
   "source": [
    "import pandas as pd\n",
    "import numpy as np\n",
    "from collections import Counter"
   ]
  },
  {
   "cell_type": "code",
   "execution_count": 3,
   "metadata": {},
   "outputs": [],
   "source": [
    "class Node:\n",
    "    def __init__(self, value=None, threshold=None, left=None, right=None):\n",
    "        self.feature = value\n",
    "        self.left = left\n",
    "        self.right = right\n",
    "\n",
    "    def is_leaf(self):\n",
    "        return self.right is None and self.left is None"
   ]
  },
  {
   "cell_type": "code",
   "execution_count": 5,
   "metadata": {},
   "outputs": [
    {
     "name": "stdout",
     "output_type": "stream",
     "text": [
      "X_left [[-1 -1  1 -1]\n",
      " [ 1  1  1  1]\n",
      " [-1 -1  1 -1]\n",
      " [-1  1  1  1]\n",
      " [ 1 -1 -1  1]\n",
      " [-1  1  1 -1]\n",
      " [ 1 -1 -1 -1]]\n",
      "y_left ['Alice' 'David' 'Eve' 'Grace' 'Henry' 'Iris' 'Jack']\n",
      "X_right [[ 1  1  1  1]\n",
      " [ 1  1 -1 -1]\n",
      " [ 1 -1 -1  1]]\n",
      "y_right ['Bob' 'Charlie' 'Frank']\n",
      "X_left [[-1  1 -1]\n",
      " [-1  1 -1]\n",
      " [ 1  1  1]\n",
      " [ 1  1 -1]]\n",
      "y_left ['Alice' 'Eve' 'Grace' 'Iris']\n",
      "X_right [[ 1  1  1]\n",
      " [-1 -1  1]\n",
      " [-1 -1 -1]]\n",
      "y_right ['David' 'Henry' 'Jack']\n",
      "left_subtree None\n",
      "right_subtree None\n",
      "X_left [[ 1  1 -1]\n",
      " [ 1 -1  1]]\n",
      "y_left ['Charlie' 'Frank']\n",
      "X_right [[1 1 1]]\n",
      "y_right ['Bob']\n",
      "left_subtree None\n",
      "right_subtree None\n",
      "left_subtree <__main__.Node object at 0x7f8f6a518c10>\n",
      "right_subtree <__main__.Node object at 0x7f8f26ea0f10>\n",
      "Left:\n",
      "  Leaf Node: 2\n",
      "Right:\n",
      "depth: 0\n"
     ]
    }
   ],
   "source": [
    "ds = pd.read_csv('data.csv')\n",
    "\n",
    "X = ds.iloc[:, 0:5].values\n",
    "y = ds['name'].values\n",
    "\n",
    "# print(X)\n",
    "# print(y)\n",
    "\n",
    "clf = DecisionTree()\n",
    "clf.fit(X, y)\n",
    "\n",
    "y_pred = clf.predict(X)\n",
    "\n",
    "# print(y)\n",
    "# print(y_pred)\n",
    "\n",
    "clf.print_tree(clf.root)"
   ]
  }
 ],
 "metadata": {
  "kernelspec": {
   "display_name": "Python 3",
   "language": "python",
   "name": "python3"
  },
  "language_info": {
   "codemirror_mode": {
    "name": "ipython",
    "version": 3
   },
   "file_extension": ".py",
   "mimetype": "text/x-python",
   "name": "python",
   "nbconvert_exporter": "python",
   "pygments_lexer": "ipython3",
   "version": "3.8.10"
  },
  "orig_nbformat": 4,
  "vscode": {
   "interpreter": {
    "hash": "916dbcbb3f70747c44a77c7bcd40155683ae19c65e1c03b4aa3499c5328201f1"
   }
  }
 },
 "nbformat": 4,
 "nbformat_minor": 2
}
