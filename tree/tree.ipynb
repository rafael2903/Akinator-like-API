{
 "cells": [
  {
   "cell_type": "code",
   "execution_count": 1,
   "metadata": {},
   "outputs": [],
   "source": [
    "from tree import BinaryDecisionTreeClassifier\n",
    "import pandas as pd\n",
    "import numpy as np"
   ]
  },
  {
   "cell_type": "code",
   "execution_count": 2,
   "metadata": {},
   "outputs": [],
   "source": [
    "df = pd.read_csv('data.csv')\n",
    "df = df.drop(columns=['Unnamed: 0'])\n",
    "df = df.sample(5)"
   ]
  },
  {
   "cell_type": "code",
   "execution_count": 3,
   "metadata": {},
   "outputs": [
    {
     "name": "stdout",
     "output_type": "stream",
     "text": [
      "Left:\n",
      "  Left:\n",
      "    Leaf Node: Sócrates\n",
      "  Right:\n",
      "    Leaf Node: André Breton\n",
      "  depth: 1\n",
      "  value: poeta\n",
      "Right:\n",
      "  Left:\n",
      "    Left:\n",
      "      Leaf Node: Lygia Bojunga\n",
      "    Right:\n",
      "      Leaf Node: Beatriz Milhazes\n",
      "    depth: 2\n",
      "    value: professora\n",
      "  Right:\n",
      "    Leaf Node: Nicette Bruno\n",
      "  depth: 1\n",
      "  value: atriz\n",
      "depth: 0\n",
      "value: brasileira\n"
     ]
    }
   ],
   "source": [
    "X = df[df.columns[1:]]\n",
    "y = df['pessoa'].values\n",
    "\n",
    "tree = BinaryDecisionTreeClassifier()\n",
    "\n",
    "tree.fit(X, y)\n",
    "\n",
    "tree.dump()\n",
    "\n",
    "tree.print_tree()"
   ]
  },
  {
   "cell_type": "code",
   "execution_count": 4,
   "metadata": {},
   "outputs": [
    {
     "name": "stdout",
     "output_type": "stream",
     "text": [
      "Accuracy:  1.0\n"
     ]
    }
   ],
   "source": [
    "def accuracy(y_true, y_pred):\n",
    "    accuracy = np.sum(y_true == y_pred) / len(y_true)\n",
    "    return accuracy\n",
    "\n",
    "y_pred = tree.predict(X)\n",
    "\n",
    "print(\"Accuracy: \", accuracy(y, y_pred))"
   ]
  }
 ],
 "metadata": {
  "kernelspec": {
   "display_name": "Python 3",
   "language": "python",
   "name": "python3"
  },
  "language_info": {
   "codemirror_mode": {
    "name": "ipython",
    "version": 3
   },
   "file_extension": ".py",
   "mimetype": "text/x-python",
   "name": "python",
   "nbconvert_exporter": "python",
   "pygments_lexer": "ipython3",
   "version": "3.8.10"
  },
  "orig_nbformat": 4,
  "vscode": {
   "interpreter": {
    "hash": "916dbcbb3f70747c44a77c7bcd40155683ae19c65e1c03b4aa3499c5328201f1"
   }
  }
 },
 "nbformat": 4,
 "nbformat_minor": 2
}
