{
 "cells": [
  {
   "cell_type": "code",
   "execution_count": 5,
   "metadata": {},
   "outputs": [],
   "source": [
    "from tree import BinaryDecisionTreeClassifier\n",
    "from akinator import Akinator"
   ]
  },
  {
   "cell_type": "code",
   "execution_count": 6,
   "metadata": {},
   "outputs": [
    {
     "name": "stdout",
     "output_type": "stream",
     "text": [
      "Left:\n",
      "  Left:\n",
      "    Leaf Node: Sócrates\n",
      "  Right:\n",
      "    Leaf Node: André Breton\n",
      "  depth: 1\n",
      "  value: poeta\n",
      "Right:\n",
      "  Left:\n",
      "    Left:\n",
      "      Leaf Node: Lygia Bojunga\n",
      "    Right:\n",
      "      Leaf Node: Beatriz Milhazes\n",
      "    depth: 2\n",
      "    value: professora\n",
      "  Right:\n",
      "    Leaf Node: Nicette Bruno\n",
      "  depth: 1\n",
      "  value: atriz\n",
      "depth: 0\n",
      "value: brasileira\n"
     ]
    }
   ],
   "source": [
    "tree = BinaryDecisionTreeClassifier('tree.json')\n",
    "tree.print_tree()"
   ]
  },
  {
   "cell_type": "code",
   "execution_count": 7,
   "metadata": {},
   "outputs": [],
   "source": [
    "akinator = Akinator(tree)\n"
   ]
  },
  {
   "cell_type": "code",
   "execution_count": 8,
   "metadata": {},
   "outputs": [
    {
     "data": {
      "text/plain": [
       "{'question': 'brasileira', 'done': False}"
      ]
     },
     "execution_count": 8,
     "metadata": {},
     "output_type": "execute_result"
    }
   ],
   "source": [
    "akinator.current_question"
   ]
  },
  {
   "cell_type": "code",
   "execution_count": 9,
   "metadata": {},
   "outputs": [
    {
     "data": {
      "text/plain": [
       "{'question': 'Sócrates', 'done': True}"
      ]
     },
     "execution_count": 9,
     "metadata": {},
     "output_type": "execute_result"
    }
   ],
   "source": [
    "akinator.answer_question(-1)\n",
    "akinator.answer_question(-1)\n",
    "akinator.answer_question(-1)\n",
    "akinator.answer_question(1)\n",
    "akinator.answer_question(-1)\n",
    "akinator.answer_question(1)\n",
    "akinator.answer_question(-1)"
   ]
  }
 ],
 "metadata": {
  "kernelspec": {
   "display_name": "Python 3",
   "language": "python",
   "name": "python3"
  },
  "language_info": {
   "codemirror_mode": {
    "name": "ipython",
    "version": 3
   },
   "file_extension": ".py",
   "mimetype": "text/x-python",
   "name": "python",
   "nbconvert_exporter": "python",
   "pygments_lexer": "ipython3",
   "version": "3.8.10"
  },
  "orig_nbformat": 4,
  "vscode": {
   "interpreter": {
    "hash": "916dbcbb3f70747c44a77c7bcd40155683ae19c65e1c03b4aa3499c5328201f1"
   }
  }
 },
 "nbformat": 4,
 "nbformat_minor": 2
}
